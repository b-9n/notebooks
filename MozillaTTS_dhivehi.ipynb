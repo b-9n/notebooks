{
  "nbformat": 4,
  "nbformat_minor": 0,
  "metadata": {
    "colab": {
      "name": "MozillaTTS_single2K.ipynb",
      "provenance": [],
      "collapsed_sections": [
        "37CpLNUyLGd3"
      ],
      "toc_visible": true
    },
    "kernelspec": {
      "name": "python3",
      "display_name": "Python 3"
    },
    "accelerator": "GPU"
  },
  "cells": [
    {
      "cell_type": "markdown",
      "metadata": {
        "id": "cjD0xW0cEMVT",
        "colab_type": "text"
      },
      "source": [
        "## Training dhivehi dataset with  [https://github.com/mozilla/TTS](https://github.com/mozilla/TTS)"
      ]
    },
    {
      "cell_type": "markdown",
      "metadata": {
        "id": "f8lrvWiuMv82",
        "colab_type": "text"
      },
      "source": [
        "# SETUP"
      ]
    },
    {
      "cell_type": "code",
      "metadata": {
        "id": "j1-dsi_PMxBG",
        "colab_type": "code",
        "colab": {}
      },
      "source": [
        "#01:35s\n",
        "!pip install -q -U gdown\n",
        "!gdown 'https://drive.google.com/uc?id=18Z_zrDcFn3fe5GIs9_4MM_HUY4S5mvzn'\n",
        "!tar -xzf LJSpeech_dv.tar.gz\n",
        "!rm LJSpeech_dv.tar.gz\n",
        "!rm -r /content/sample_data\n",
        "# create train-val splits\n",
        "!shuf LJSpeech-1.1/metadata.csv > LJSpeech-1.1/metadata_shuf.csv\n",
        "!head -n 4000 LJSpeech-1.1/metadata_shuf.csv > LJSpeech-1.1/metadata_train.csv\n",
        "!tail -n 400 LJSpeech-1.1/metadata_shuf.csv > LJSpeech-1.1/metadata_val.csv\n",
        "# get TTS to your local\n",
        "#!git clone https://github.com/mozilla/TTS\n",
        "!git clone https://github.com/b-9n/TTS.git\n",
        "%cd TTS\n",
        "# install espeak backend if you like to use phonemes instead of raw characters\n",
        "!sudo apt-get install espeak\n",
        "!pip install -q -U soundfile -q\n",
        "!python setup.py install"
      ],
      "execution_count": null,
      "outputs": []
    },
    {
      "cell_type": "markdown",
      "metadata": {
        "id": "UOZ5kUy_sxlr",
        "colab_type": "text"
      },
      "source": [
        "connect drive"
      ]
    },
    {
      "cell_type": "code",
      "metadata": {
        "id": "jIzvpOnU8MR-",
        "colab_type": "code",
        "colab": {}
      },
      "source": [
        "import numpy as np\n",
        "from IPython.display import Audio\n",
        "from scipy.io import wavfile\n",
        "from google.colab import drive\n",
        "%load_ext tensorboard\n",
        "drive.mount('/content/drive')"
      ],
      "execution_count": 6,
      "outputs": []
    },
    {
      "cell_type": "markdown",
      "metadata": {
        "id": "ktdg9IMpM35k",
        "colab_type": "text"
      },
      "source": [
        "# IF CONTINUING OLD SESSION, GO DOWN AND LOAD FROM DRIVE"
      ]
    },
    {
      "cell_type": "markdown",
      "metadata": {
        "id": "1F7oVQ7lkENn",
        "colab_type": "text"
      },
      "source": [
        "# Train model 00:00 [08:00 > 8hr]"
      ]
    },
    {
      "cell_type": "code",
      "metadata": {
        "id": "8L3JjJOBErxq",
        "colab_type": "code",
        "colab": {}
      },
      "source": [
        "!python train.py --config_path config.json\n",
        "#!python train.py --config_path config.json --continue_path=\"/content/ljspeech-June-17-2020_05+32AM-669776a/\""
      ],
      "execution_count": null,
      "outputs": []
    },
    {
      "cell_type": "code",
      "metadata": {
        "id": "R-C8BdeLK9BC",
        "colab_type": "code",
        "colab": {}
      },
      "source": [
        "%tensorboard --logdir \"/content/ljspeech-June-17-2020_05+32AM-669776a\""
      ],
      "execution_count": null,
      "outputs": []
    },
    {
      "cell_type": "markdown",
      "metadata": {
        "id": "ktijiqhGjDvc",
        "colab_type": "text"
      },
      "source": [
        "# Test model synthesize text config_folder_name model_file_name"
      ]
    },
    {
      "cell_type": "code",
      "metadata": {
        "id": "g7Onn54J94J1",
        "colab_type": "code",
        "colab": {}
      },
      "source": [
        "!python synthesize.py \"ހުރިހާ ބޭފުޅުންވެސް ގޭގާ ތިއްބަވާ\" \"ljspeech-June-17-2020_05+32AM-669776a\" \"checkpoint_20000.pth.tar\""
      ],
      "execution_count": null,
      "outputs": []
    },
    {
      "cell_type": "code",
      "metadata": {
        "id": "_gsMGz8zxHSN",
        "colab_type": "code",
        "colab": {}
      },
      "source": [
        "data = wavfile.read('/content/out.wav')\n",
        "framerate = data[0]\n",
        "sounddata = data[1]\n",
        "Audio(sounddata,rate=framerate)"
      ],
      "execution_count": null,
      "outputs": []
    },
    {
      "cell_type": "markdown",
      "metadata": {
        "id": "teOiFqx1i7H_",
        "colab_type": "text"
      },
      "source": [
        "# save to drive [only after first run ended]"
      ]
    },
    {
      "cell_type": "code",
      "metadata": {
        "id": "ZY4biscj7pU4",
        "colab_type": "code",
        "colab": {}
      },
      "source": [
        "!cp /content/LJSpeech-1.1/metadata_shuf.csv \"/content/drive/My Drive/colab_saves/metadata_shuf.csv\"\n",
        "!cp /content/LJSpeech-1.1/metadata_train.csv \"/content/drive/My Drive/colab_saves/metadata_train.csv\"\n",
        "!cp /content/LJSpeech-1.1/metadata_val.csv \"/content/drive/My Drive/colab_saves/metadata_val.csv\"\n",
        "#change experiment folder\n",
        "!cp /content/ljspeech-June-17-2020_05+32AM-669776a/config.json \"/content/drive/My Drive/colab_saves/config.json\""
      ],
      "execution_count": null,
      "outputs": []
    },
    {
      "cell_type": "markdown",
      "metadata": {
        "id": "dqqbam2ejAC7",
        "colab_type": "text"
      },
      "source": [
        "# load from drive [when continuing]"
      ]
    },
    {
      "cell_type": "code",
      "metadata": {
        "id": "Azn-MDHJ9Yoh",
        "colab_type": "code",
        "colab": {}
      },
      "source": [
        "#always replace with latest training folder name DhivehiSpeechSofwath/ljspeech-June-17-2020_05+32AM-669776a\n",
        "!cp -r \"/content/drive/My Drive/colab_saves\" /content/\n",
        "!cp \"/content/drive/My Drive/DhivehiSpeechSofwath/metadata_shuf.csv\" /content/LJSpeech-1.1/metadata_shuf.csv\n",
        "!cp \"/content/drive/My Drive/DhivehiSpeechSofwath/metadata_train.csv\" /content/LJSpeech-1.1/metadata_train.csv\n",
        "!cp \"/content/drive/My Drive/DhivehiSpeechSofwath/metadata_val.csv\" /content/LJSpeech-1.1/metadata_val.csv"
      ],
      "execution_count": null,
      "outputs": []
    },
    {
      "cell_type": "markdown",
      "metadata": {
        "id": "37CpLNUyLGd3",
        "colab_type": "text"
      },
      "source": [
        "# current tranining configs"
      ]
    },
    {
      "cell_type": "code",
      "metadata": {
        "id": "TV8sW6SgK3VN",
        "colab_type": "code",
        "colab": {}
      },
      "source": [
        "2020-06-16 08:06:48.927765: I tensorflow/stream_executor/platform/default/dso_loader.cc:44] Successfully opened dynamic library libcudart.so.10.1\n",
        " > Using CUDA:  True\n",
        " > Number of GPUs:  1\n",
        " > Git Hash: 669776a\n",
        " > Experiment folder: ../ljspeech-June-16-2020_08+06AM-669776a\n",
        " > Setting up Audio Processor...\n",
        " | > sample_rate:22050\n",
        " | > num_mels:80\n",
        " | > min_level_db:-100\n",
        " | > frame_shift_ms:None\n",
        " | > frame_length_ms:None\n",
        " | > ref_level_db:20\n",
        " | > num_freq:513\n",
        " | > power:1.5\n",
        " | > preemphasis:0.0\n",
        " | > griffin_lim_iters:60\n",
        " | > signal_norm:True\n",
        " | > symmetric_norm:True\n",
        " | > mel_fmin:0\n",
        " | > mel_fmax:8000.0\n",
        " | > max_norm:4.0\n",
        " | > clip_norm:True\n",
        " | > do_trim_silence:True\n",
        " | > trim_db:60\n",
        " | > do_sound_norm:False\n",
        " | > stats_path:None\n",
        " | > hop_length:256\n",
        " | > win_length:1024\n",
        " | > n_fft:1024\n",
        " > Using model: Tacotron2\n",
        " | > Num output units : 513\n",
        "\n",
        " > Model has 28947858 parameters\n",
        "\n",
        " > EPOCH: 0/1000\n",
        "\n",
        " > Number of output frames: 7\n",
        "\n",
        " > DataLoader initialization\n",
        " | > Use phonemes: False\n",
        " | > Number of instances : 1992\n",
        " | > Max length sequence: 607\n",
        " | > Min length sequence: 4\n",
        " | > Avg length sequence: 105.49196787148594\n",
        " | > Num. instances discarded by max-min (max=153, min=6) seq limits: 403\n",
        " | > Batch group size: 0."
      ],
      "execution_count": null,
      "outputs": []
    }
  ]
}